{
 "cells": [
  {
   "cell_type": "markdown",
   "metadata": {
    "tags": []
   },
   "source": [
    "This code is adapted from OpenAI demo code that you can find [here](https://github.com/openai/openai-cookbook/tree/main/apps/web-crawl-q-and-a)."
   ]
  },
  {
   "cell_type": "markdown",
   "metadata": {
    "tags": []
   },
   "source": [
    "# Imports"
   ]
  },
  {
   "cell_type": "code",
   "execution_count": 10,
   "metadata": {
    "tags": []
   },
   "outputs": [],
   "source": [
    "%matplotlib inline\n",
    "import matplotlib.pyplot as plt\n",
    "plt.style.use('ggplot')\n",
    "params = {\n",
    "    'text.color': (0.25, 0.25, 0.25),\n",
    "    'figure.figsize': [18, 6],\n",
    "   }\n",
    "plt.rcParams.update(params)\n",
    "\n",
    "import pandas as pd\n",
    "import numpy as np\n",
    "import re\n",
    "\n",
    "import openai\n",
    "from openai.embeddings_utils import distances_from_embeddings\n",
    "from openai.embeddings_utils import cosine_similarity\n",
    "\n",
    "# set here the path to a text file with your OpenAI API key\n",
    "openai.api_key_path = \"../openai\"\n",
    "\n",
    "import tiktoken"
   ]
  },
  {
   "cell_type": "markdown",
   "metadata": {},
   "source": [
    "# Load and clean texts"
   ]
  },
  {
   "cell_type": "markdown",
   "metadata": {},
   "source": [
    "### Raw text scrape EAK site"
   ]
  },
  {
   "cell_type": "code",
   "execution_count": 32,
   "metadata": {},
   "outputs": [
    {
     "name": "stdout",
     "output_type": "stream",
     "text": [
      "<class 'pandas.core.frame.DataFrame'>\n",
      "RangeIndex: 166 entries, 0 to 165\n",
      "Data columns (total 2 columns):\n",
      " #   Column   Non-Null Count  Dtype \n",
      "---  ------   --------------  ----- \n",
      " 0   url      166 non-null    object\n",
      " 1   content  166 non-null    object\n",
      "dtypes: object(2)\n",
      "memory usage: 2.7+ KB\n"
     ]
    }
   ],
   "source": [
    "df_a = pd.read_csv(\"_data/scrape_raw.csv\")\n",
    "df_a = df_a.iloc[:, 1:3]\n",
    "# df_a.drop_duplicates(inplace=True)\n",
    "df_a.info()"
   ]
  },
  {
   "cell_type": "markdown",
   "metadata": {},
   "source": [
    "### Refined scrape from EAK and AHV/IV site"
   ]
  },
  {
   "cell_type": "code",
   "execution_count": 33,
   "metadata": {},
   "outputs": [
    {
     "name": "stdout",
     "output_type": "stream",
     "text": [
      "<class 'pandas.core.frame.DataFrame'>\n",
      "RangeIndex: 582 entries, 0 to 581\n",
      "Data columns (total 2 columns):\n",
      " #   Column   Non-Null Count  Dtype \n",
      "---  ------   --------------  ----- \n",
      " 0   url      582 non-null    object\n",
      " 1   content  582 non-null    object\n",
      "dtypes: object(2)\n",
      "memory usage: 9.2+ KB\n"
     ]
    },
    {
     "data": {
      "text/plain": [
       "None"
      ]
     },
     "metadata": {},
     "output_type": "display_data"
    }
   ],
   "source": [
    "df_b = pd.read_json(\"_data/scrape_extended.json\")\n",
    "df_b[\"content\"] = df_b.question + \" - \" + df_b.answer\n",
    "df_b = df_b.iloc[:, 2:4]\n",
    "df_b.columns = [\"url\", \"content\"]\n",
    "# df_b.drop_duplicates(inplace=True)\n",
    "display(df_b.info())"
   ]
  },
  {
   "cell_type": "code",
   "execution_count": 34,
   "metadata": {},
   "outputs": [],
   "source": [
    "def clean_text(text):\n",
    "    text = re.sub(r'(\\n|\\r\\n|\\r|\\t)+', ' ', text) \n",
    "    return text"
   ]
  },
  {
   "cell_type": "code",
   "execution_count": 35,
   "metadata": {},
   "outputs": [],
   "source": [
    "df_a.content = df_a.content.apply(clean_text)\n",
    "df_b.content = df_b.content.apply(clean_text)\n",
    "df = pd.concat([df_a, df_b])\n",
    "df.reset_index(inplace=True, drop=True)"
   ]
  },
  {
   "cell_type": "markdown",
   "metadata": {},
   "source": [
    "# Tokenize"
   ]
  },
  {
   "cell_type": "code",
   "execution_count": 37,
   "metadata": {},
   "outputs": [],
   "source": [
    "# Load the cl100k_base tokenizer which is designed to work with the ada-002 model\n",
    "tokenizer = tiktoken.get_encoding(\"cl100k_base\")\n",
    "df['n_tokens'] = df.content.apply(lambda x: len(tokenizer.encode(x)))"
   ]
  },
  {
   "cell_type": "code",
   "execution_count": 38,
   "metadata": {},
   "outputs": [],
   "source": [
    "max_tokens = 500\n",
    "\n",
    "# Function to split the text into chunks of a maximum number of tokens\n",
    "def split_into_many(text, max_tokens = max_tokens):\n",
    "\n",
    "    # Split the text into sentences\n",
    "    sentences = text.split('. ')\n",
    "\n",
    "    # Get the number of tokens for each sentence\n",
    "    n_tokens = [len(tokenizer.encode(\" \" + sentence)) for sentence in sentences]\n",
    "    \n",
    "    chunks = []\n",
    "    tokens_so_far = 0\n",
    "    chunk = []\n",
    "\n",
    "    # Loop through the sentences and tokens joined together in a tuple\n",
    "    for sentence, token in zip(sentences, n_tokens):\n",
    "\n",
    "        # If the number of tokens so far plus the number of tokens in the current sentence is greater \n",
    "        # than the max number of tokens, then add the chunk to the list of chunks and reset\n",
    "        # the chunk and tokens so far\n",
    "        if tokens_so_far + token > max_tokens:\n",
    "            chunks.append(\". \".join(chunk) + \".\")\n",
    "            chunk = []\n",
    "            tokens_so_far = 0\n",
    "\n",
    "        # If the number of tokens in the current sentence is greater than the max number of \n",
    "        # tokens, go to the next sentence\n",
    "        if token > max_tokens:\n",
    "            continue\n",
    "\n",
    "        # Otherwise, add the sentence to the chunk and add the number of tokens to the total\n",
    "        chunk.append(sentence)\n",
    "        tokens_so_far += token + 1\n",
    "\n",
    "    return chunks\n",
    "    \n",
    "shortened = []\n",
    "\n",
    "# Loop through the dataframe\n",
    "for row in df.iterrows():\n",
    "\n",
    "    # If the text is None, go to the next row\n",
    "    if row[1]['content'] is None:\n",
    "        continue\n",
    "\n",
    "    # If the number of tokens is greater than the max number of tokens, split the text into chunks\n",
    "    if row[1]['n_tokens'] > max_tokens:\n",
    "        splits = split_into_many(row[1]['content'])\n",
    "        splits = [(row[1].url, split) for split in splits]\n",
    "        shortened.extend(splits)\n",
    "        \n",
    "    # Otherwise, add the text to the list of shortened texts\n",
    "    else:\n",
    "        shortened.append((row[1].url, row[1]['content']))"
   ]
  },
  {
   "cell_type": "code",
   "execution_count": 55,
   "metadata": {},
   "outputs": [
    {
     "data": {
      "image/png": "[encoded data removed]",
      "text/plain": [
       "<Figure size 1800x600 with 1 Axes>"
      ]
     },
     "metadata": {},
     "output_type": "display_data"
    }
   ],
   "source": [
    "df = pd.DataFrame(shortened, columns = [\"url\", 'content'])\n",
    "df['n_tokens'] = df.content.apply(lambda x: len(tokenizer.encode(x)))\n",
    "df.n_tokens.hist(rwidth=.9, bins=100);"
   ]
  },
  {
   "cell_type": "markdown",
   "metadata": {},
   "source": [
    "# Create embeddings"
   ]
  },
  {
   "cell_type": "code",
   "execution_count": 56,
   "metadata": {},
   "outputs": [
    {
     "name": "stdout",
     "output_type": "stream",
     "text": [
      "CPU times: user 6.75 s, sys: 913 ms, total: 7.67 s\n",
      "Wall time: 2min 59s\n"
     ]
    },
    {
     "data": {
      "text/html": [
       "<div>\n",
       "<style scoped>\n",
       "    .dataframe tbody tr th:only-of-type {\n",
       "        vertical-align: middle;\n",
       "    }\n",
       "\n",
       "    .dataframe tbody tr th {\n",
       "        vertical-align: top;\n",
       "    }\n",
       "\n",
       "    .dataframe thead th {\n",
       "        text-align: right;\n",
       "    }\n",
       "</style>\n",
       "<table border=\"1\" class=\"dataframe\">\n",
       "  <thead>\n",
       "    <tr style=\"text-align: right;\">\n",
       "      <th></th>\n",
       "      <th>url</th>\n",
       "      <th>content</th>\n",
       "      <th>n_tokens</th>\n",
       "      <th>embeddings</th>\n",
       "    </tr>\n",
       "  </thead>\n",
       "  <tbody>\n",
       "    <tr>\n",
       "      <th>0</th>\n",
       "      <td>https://www.eak.admin.ch/eak/de/home.html</td>\n",
       "      <td>Reform AHV 21 Vaterschaftse...</td>\n",
       "      <td>448</td>\n",
       "      <td>[-0.016704805195331573, -0.0005400397931225598...</td>\n",
       "    </tr>\n",
       "    <tr>\n",
       "      <th>1</th>\n",
       "      <td>https://www.eak.admin.ch#context-sidebar</td>\n",
       "      <td>Reform AHV 21 Vaterschaftse...</td>\n",
       "      <td>448</td>\n",
       "      <td>[-0.016704805195331573, -0.0005400397931225598...</td>\n",
       "    </tr>\n",
       "    <tr>\n",
       "      <th>2</th>\n",
       "      <td>https://www.eak.admin.ch/eak/de/home/Firmen.html</td>\n",
       "      <td>Navigation   Themen         Anschluss Per...</td>\n",
       "      <td>46</td>\n",
       "      <td>[0.010128021240234375, -0.002530322875827551, ...</td>\n",
       "    </tr>\n",
       "    <tr>\n",
       "      <th>3</th>\n",
       "      <td>https://www.eak.admin.ch/eak/de/home/Firmen/An...</td>\n",
       "      <td>Navigation                                 ...</td>\n",
       "      <td>159</td>\n",
       "      <td>[-0.00015793999773450196, -0.00919644348323345...</td>\n",
       "    </tr>\n",
       "    <tr>\n",
       "      <th>4</th>\n",
       "      <td>https://www.eak.admin.ch/eak/de/home/Firmen/An...</td>\n",
       "      <td>Navigation                                 ...</td>\n",
       "      <td>463</td>\n",
       "      <td>[0.007056905422359705, 0.0013356792042031884, ...</td>\n",
       "    </tr>\n",
       "  </tbody>\n",
       "</table>\n",
       "</div>"
      ],
      "text/plain": [
       "                                                 url  \\\n",
       "0          https://www.eak.admin.ch/eak/de/home.html   \n",
       "1           https://www.eak.admin.ch#context-sidebar   \n",
       "2   https://www.eak.admin.ch/eak/de/home/Firmen.html   \n",
       "3  https://www.eak.admin.ch/eak/de/home/Firmen/An...   \n",
       "4  https://www.eak.admin.ch/eak/de/home/Firmen/An...   \n",
       "\n",
       "                                             content  n_tokens  \\\n",
       "0                     Reform AHV 21 Vaterschaftse...       448   \n",
       "1                     Reform AHV 21 Vaterschaftse...       448   \n",
       "2       Navigation   Themen         Anschluss Per...        46   \n",
       "3     Navigation                                 ...       159   \n",
       "4     Navigation                                 ...       463   \n",
       "\n",
       "                                          embeddings  \n",
       "0  [-0.016704805195331573, -0.0005400397931225598...  \n",
       "1  [-0.016704805195331573, -0.0005400397931225598...  \n",
       "2  [0.010128021240234375, -0.002530322875827551, ...  \n",
       "3  [-0.00015793999773450196, -0.00919644348323345...  \n",
       "4  [0.007056905422359705, 0.0013356792042031884, ...  "
      ]
     },
     "execution_count": 56,
     "metadata": {},
     "output_type": "execute_result"
    }
   ],
   "source": [
    "%%time\n",
    "df['embeddings'] = df.content.apply(lambda x: openai.Embedding.create(input=x, engine='text-embedding-ada-002')['data'][0]['embedding'])\n",
    "df.to_csv('../03_app/_data/scrape_embed.csv')\n",
    "df.head()"
   ]
  },
  {
   "cell_type": "markdown",
   "metadata": {},
   "source": [
    "# Load embeddings"
   ]
  },
  {
   "cell_type": "code",
   "execution_count": 62,
   "metadata": {},
   "outputs": [],
   "source": [
    "df = pd.read_csv('../03_app/_data/scrape_embed.csv', index_col=0)\n",
    "df['embeddings'] = df['embeddings'].apply(eval).apply(np.array)"
   ]
  },
  {
   "cell_type": "markdown",
   "metadata": {},
   "source": [
    "# Inference"
   ]
  },
  {
   "cell_type": "code",
   "execution_count": 58,
   "metadata": {},
   "outputs": [],
   "source": [
    "def create_context(question, df, max_len=1800, size=\"ada\"):\n",
    "    \"\"\"\n",
    "    Create a context for a question by finding the most similar context from the dataframe\n",
    "    \"\"\"\n",
    "\n",
    "    # Get the embeddings for the question\n",
    "    q_embeddings = openai.Embedding.create(input=question, engine='text-embedding-ada-002')['data'][0]['embedding']\n",
    "\n",
    "    # Get the distances from the embeddings\n",
    "    df['distances'] = distances_from_embeddings(q_embeddings, df['embeddings'].values, distance_metric='cosine')\n",
    "\n",
    "\n",
    "    returns = []\n",
    "    reference_links = []\n",
    "    cur_len = 0\n",
    "\n",
    "    # Sort by distance and add the text to the context until the context is too long\n",
    "    for i, row in df.sort_values('distances', ascending=True).iterrows():\n",
    "        \n",
    "        # Add the length of the text to the current length\n",
    "        cur_len += row['n_tokens'] + 4\n",
    "        \n",
    "        # If the context is too long, break\n",
    "        if cur_len > max_len:\n",
    "            break\n",
    "        \n",
    "        # Else add it to the text that is being returned\n",
    "        returns.append(row[\"content\"])\n",
    "        reference_links.append(row[\"url\"])\n",
    "        \n",
    "    # Return the context and links, from which the information stems\n",
    "    return \"\\n\\n###\\n\\n\".join(returns), reference_links\n",
    "\n",
    "def answer_question(\n",
    "    df,\n",
    "    model=\"text-davinci-003\",\n",
    "    question=\"Am I allowed to publish model outputs to Twitter, without a human review?\",\n",
    "    max_len=1800,\n",
    "    size=\"ada\",\n",
    "    debug=False,\n",
    "    max_tokens=150,\n",
    "    stop_sequence=None\n",
    "):\n",
    "    \"\"\"\n",
    "    Answer a question based on the most similar context from the dataframe texts\n",
    "    \"\"\"\n",
    "    context, links = create_context(\n",
    "        question,\n",
    "        df,\n",
    "        max_len=max_len,\n",
    "        size=size,\n",
    "    )\n",
    "    # If debug, print the raw model response\n",
    "    if debug:\n",
    "        print(\"Context:\\n\" + context)\n",
    "        print(\"\\n\\n\")\n",
    "\n",
    "    try:\n",
    "        # Create a completions using the question and context\n",
    "        response = openai.Completion.create(\n",
    "            prompt=f\"Answer the question based on the context below, \\n\\nContext: {context}\\n\\n---\\n\\nQuestion: {question}\\nAnswer:\",\n",
    "            temperature=0,\n",
    "            max_tokens=max_tokens,\n",
    "            top_p=1,\n",
    "            frequency_penalty=0,\n",
    "            presence_penalty=0,\n",
    "            stop=stop_sequence,\n",
    "            model=model,\n",
    "        )\n",
    "        return response[\"choices\"][0][\"text\"].strip(), links\n",
    "    except Exception as e:\n",
    "        print(e)\n",
    "        return \"\""
   ]
  },
  {
   "cell_type": "markdown",
   "metadata": {},
   "source": [
    "# Validating the embeddings and model"
   ]
  },
  {
   "cell_type": "code",
   "execution_count": 59,
   "metadata": {},
   "outputs": [
    {
     "name": "stdout",
     "output_type": "stream",
     "text": [
      "<class 'pandas.core.frame.DataFrame'>\n",
      "RangeIndex: 30 entries, 0 to 29\n",
      "Data columns (total 2 columns):\n",
      " #   Column    Non-Null Count  Dtype \n",
      "---  ------    --------------  ----- \n",
      " 0   question  30 non-null     object\n",
      " 1   answer    30 non-null     object\n",
      "dtypes: object(2)\n",
      "memory usage: 608.0+ bytes\n"
     ]
    }
   ],
   "source": [
    "tests = pd.read_csv(\"_data/testfragen.csv\", header=None, delimiter=\";\")\n",
    "tests.columns = [\"question\", \"answer\"]\n",
    "tests.info()"
   ]
  },
  {
   "cell_type": "code",
   "execution_count": 61,
   "metadata": {},
   "outputs": [
    {
     "name": "stdout",
     "output_type": "stream",
     "text": [
      "Testfrage: Wer ist aktuell die Kassenleiterin der EAK? \n",
      "Richtige Antwort:  Andrea Steiner\n",
      "\n",
      "Antwort GPT: Andrea Steiner ist die Kassenleiterin der EAK.\n",
      "\n",
      "--------------------------------------------------------------------------------\n",
      "Testfrage: Wer ist der Chef der Leistungen? \n",
      "Richtige Antwort:  Carlo Natale\n",
      "\n",
      "Antwort GPT: Carlo Natale ist der Leiter der Sektion Leistungen.\n",
      "\n",
      "--------------------------------------------------------------------------------\n",
      "Testfrage: Wie ist die Telefonnummer der EAK? \n",
      "Richtige Antwort:  +41 58 462 64 25\n",
      "\n",
      "Antwort GPT: 058 462 64 25\n",
      "\n",
      "--------------------------------------------------------------------------------\n",
      "Testfrage: Wann wird meine Altersrente im Juni 2023 ausbezahlt? \n",
      "Richtige Antwort:  07.06.2023\n",
      "\n",
      "Antwort GPT: Die Altersrente wird im Juni 2023 am 7. Juni 2023 ausbezahlt.\n",
      "\n",
      "--------------------------------------------------------------------------------\n",
      "Testfrage: Wann tritt die neue AHV-Reform in Kraft? \n",
      "Richtige Antwort:  1.1.2024\n",
      "\n",
      "Antwort GPT: Die Reform wird voraussichtlich erst am 1. Januar 2024 in Kraft treten.\n",
      "\n",
      "--------------------------------------------------------------------------------\n",
      "Testfrage: Was ändert sich mit der AHV-Reform? \n",
      "Richtige Antwort:  Referenzalter für Frauen, 65\n",
      "\n",
      "Antwort GPT: Mit der AHV-Reform werden Referenzalter 65, Ausgleichsmassnahmen, Rentenzuschlag der Übergangsgeneration, tiefere Kürzungssätze bei Vorbezug, flexiblerer Rentenbezug ab 63 Jahren und das Arbeiten nach 65 Jahren eingeführt.\n",
      "\n",
      "--------------------------------------------------------------------------------\n",
      "Testfrage: Wie wird eine Altersrente berechnet? \n",
      "Richtige Antwort:  Die Berechnungselemente der Renten sind: die anrechenbaren Beitragsjahre (wichtig für die Bestimmung der Rentenskala) und die Erwerbseinkommen sowie die Erziehungs- und Betreuungsgutschriften.\n",
      "\n",
      "Antwort GPT: Die Altersrente wird mittels Beitragsdauer und Jahreseinkommen berechnet. Zwei Faktoren bestimmen die Höhe der Renten: Die «anrechenbaren Beitragsjahre» und das «massgebende durchschnittliche Jahreseinkommen». Eine Vollrente erhält, wer ab dem 20. Altersjahr bis zum ordentlichen Rentenalter jedes Jahr lückenlos AHV-Beiträge bezahlt hat. Wurden die Beiträge jedoch nicht ohne Unterbruch einbezahlt oder fehlen sogar ganze Beitragsjahre, bestehen so genannte Beitragslücken. Die AHV kann nur eine Teilrente ausrichten: Ein fehlendes Beitragsjahr führt in der Regel zu einer Rentenkürzung um mindestens 2,3 %. Die Höhe der Rente hängt jedoch nicht nur davon ab, ob jemand die vollständigen Beitragsjahre vorweisen kann oder nicht. Sie wird ebenso von der Höhe des massgebenden durchschnittlichen Jahreseinkommens beeinflusst. Dieses kann sich aus bis zu drei Elementen zusammensetzen: dem aufgewerteten Durchschnitt der versicherten Einkommen, dem Durchschnitt der Erziehungsgutschriften (die Summe der Erziehungsgutschriften dividiert durch die gesamte Beitragsdauer), dem Durchschnitt der Betreuungsgutschriften (die Summe der Betreuungsgutschriften dividiert durch die gesamte Beitragsdauer). Die Höhe der Rente ist nach unten wie nach oben begrenz\n",
      "\n",
      "--------------------------------------------------------------------------------\n",
      "Testfrage: Wann kann ich eine Hilflosenentschädigung beantragen? \n",
      "Richtige Antwort:  Wenn Sie in leichtem, mittelschwerem oder schwerem Grad hilflos sind, die Hilflosigkeit ununterbrochen mindestens ein Jahr gedauert hat, kein Anspruch auf eine Hilflosenentschädigung der obligatorischen Unfallversicherung oder der Militärversicherung besteht.\n",
      "\n",
      "Antwort GPT: Wenn Hilfe bei alltäglichen Lebensverrichtungen benötigt wird. Wer bei alltäglichen Lebensverrichtungen wie Ankleiden, Aufstehen, Absitzen, Essen, Körperpflege etc. die Hilfe anderer Menschen benötigt, ist im Sinne der IV «hilflos» und kann eine Hilflosenentschädigung beantragen.\n",
      "\n",
      "--------------------------------------------------------------------------------\n",
      "Testfrage: Bis wann erhalte ich für mein Kind Familienzulagen? \n",
      "Richtige Antwort:  Kind unter 25 Jahren mit einem jährlichen AHV-pflichtigen Erwerbseinkommen von mindestens CHF 7'350.-\n",
      "\n",
      "Antwort GPT: Sie erhalten Familienzulagen für Ihr Kind bis zum Monat, in dem der 16. Geburtstag des Kindes liegt, oder bis zum Abschluss der Ausbildung, längstens jedoch bis zum Ende des Monats, in dem das Kind das 25. Altersjahr vollendet.\n",
      "\n",
      "--------------------------------------------------------------------------------\n",
      "Testfrage: Wie hoch ist die Ausbildungszulage im Kanton Basel-Stadt? \n",
      "Richtige Antwort:  CHF 325.-\n",
      "\n",
      "Antwort GPT: Die Ausbildungszulage im Kanton Basel-Stadt beträgt mindestens 250 Franken pro Monat im Talgebiet und mindestens 270 Franken pro Monat im Berggebiet.\n",
      "\n",
      "--------------------------------------------------------------------------------\n",
      "Testfrage: Wie hoch ist der Mindestansatz für Ausbildungszulagen? \n",
      "Richtige Antwort:  CHF 250.-\n",
      "\n",
      "Antwort GPT: Der Mindestansatz für Ausbildungszulagen beträgt CHF 250.\n",
      "\n",
      "--------------------------------------------------------------------------------\n",
      "Testfrage: Wie hoch ist die Gesamtlohnsumme im Jahr 2021 aller angeschlossenen Arbeitgeber? \n",
      "Richtige Antwort:  CHF 15'016'000'000\n",
      "\n",
      "Antwort GPT: Es ist noch nicht bekannt, wie hoch die Gesamtlohnsumme im Jahr 2021 aller angeschlossenen Arbeitgeber sein wird.\n",
      "\n",
      "--------------------------------------------------------------------------------\n",
      "Testfrage: Wie viele Nichterwerbstätige sind im Jahr 2021 bei der EAK versichert? \n",
      "Richtige Antwort: 6300\n",
      "\n",
      "Antwort GPT: Es ist nicht möglich, die Anzahl der Nichterwerbstätigen im Jahr 2021 bei der EAK zu bestimmen, da diese Information nicht im Text enthalten ist.\n",
      "\n",
      "--------------------------------------------------------------------------------\n",
      "Testfrage: Muss ich auch nach der Pensionierung AHV-Beiträge bezahlen? \n",
      "Richtige Antwort:  Übertritt in den Ruhestand vor dem ordentlichen Rentenalter, Arbeiten im Rentenalter über 1400.- im Monat\n",
      "\n",
      "Antwort GPT: Ja. Auch nach der Pensionierung muss die Versicherung in der AHV gewährleistet bleiben. Deshalb müssen Beiträge an die AHV geleistet werden.\n",
      "\n",
      "--------------------------------------------------------------------------------\n",
      "Testfrage: Weshalb werden die Renten eines Ehepaares plafoniert? \n",
      "Richtige Antwort:  Die Summe der beiden Einzelrenten eines Ehepaars darf nicht grösser sein als 150% der Maximalrente.\n",
      "\n",
      "Antwort GPT: Die Summe der beiden Einzelrenten eines Ehepaars darf höchstens 150 % der Maximalrente betragen. Wird dieser Höchstbetrag überschritten, müssen die Einzelrenten entsprechend gekürzt werden.\n",
      "\n",
      "--------------------------------------------------------------------------------\n",
      "Testfrage: Wer ist die Revisionsstelle der EAK? \n",
      "Richtige Antwort:  T&R\n",
      "\n",
      "Antwort GPT: Die Revisionsstelle der EAK ist T&R AG.\n",
      "\n",
      "--------------------------------------------------------------------------------\n",
      "Testfrage: Wie viele Taggelder wurden im Jahr 2021 gem. Betriebsrechnung ausbezahlt? \n",
      "Richtige Antwort:  14\n",
      "\n",
      "Antwort GPT: Im Jahr 2021 wurden 14 Taggelder gemäß der Betriebsrechnung ausbezahlt.\n",
      "\n",
      "--------------------------------------------------------------------------------\n",
      "Testfrage: Wie viele Einsprachen sind im Jahr 2021 eingegangen? \n",
      "Richtige Antwort:  70 Einsprachen\n",
      "\n",
      "Antwort GPT: 70 Einsprachen sind im Jahr 2021 eingegangen.\n",
      "\n",
      "--------------------------------------------------------------------------------\n",
      "Testfrage: Wer ist der Direktor der Zentralen Ausgleichsstelle ZAS? \n",
      "Richtige Antwort:  Adrien Dupraz\n",
      "\n",
      "Antwort GPT: Adrien Dupraz.\n",
      "\n",
      "--------------------------------------------------------------------------------\n",
      "Testfrage: Wer ist der Stellvertreter der Kassenleiterin der EAK? \n",
      "Richtige Antwort:  Bruno Tenner und Christoph Brunschwiler\n",
      "\n",
      "Antwort GPT: Bruno Tenner und Christoph Brunschwiler sind die Stellvertreter der Kassenleiterin der EAK.\n",
      "\n",
      "--------------------------------------------------------------------------------\n",
      "Testfrage: Wer ist derzeit für das Kundenbeziehungsmanagement verantwortlich? \n",
      "Richtige Antwort:  Vakant\n",
      "\n",
      "Antwort GPT: Ruth Dubach-Schneider ist derzeit für das Kundenbeziehungsmanagement verantwortlich.\n",
      "\n",
      "--------------------------------------------------------------------------------\n",
      "Testfrage: Wer leitet den Rechtsdienst der EAK? \n",
      "Richtige Antwort:  Brigitte Gautschi\n",
      "\n",
      "Antwort GPT: Brigitte Gautschi\n",
      "\n",
      "--------------------------------------------------------------------------------\n",
      "Testfrage: Wer leitet das Personalwesen der EAK? \n",
      "Richtige Antwort:  Carmen Hofer\n",
      "\n",
      "Antwort GPT: Carmen Hofer\n",
      "\n",
      "--------------------------------------------------------------------------------\n",
      "Testfrage: Wer leitet die Sektion Zentrale Dienste der EAK? \n",
      "Richtige Antwort:  Bruno Tenner\n",
      "\n",
      "Antwort GPT: Bruno Tenner leitet die Sektion Zentrale Dienste der EAK.\n",
      "\n",
      "--------------------------------------------------------------------------------\n",
      "Testfrage: Welche Bereiche umfasst die Sektion Zentrale Dienste der EAK? \n",
      "Richtige Antwort:  Informatik, Buchhaltung und Entwicklung/Projekte\n",
      "\n",
      "Antwort GPT: Die Sektion Zentrale Dienste der EAK umfasst Informatik, Buchhaltung und Entwicklung/Projekte.\n",
      "\n",
      "--------------------------------------------------------------------------------\n",
      "Testfrage: Wer leitet die Sektion Beiträge der EAK? \n",
      "Richtige Antwort:  Christoph Brunschwiler\n",
      "\n",
      "Antwort GPT: Christoph Brunschwiler\n",
      "\n",
      "--------------------------------------------------------------------------------\n",
      "Testfrage: Wer leitet die Sektion Leistungen der EAK? \n",
      "Richtige Antwort:  Carlo Natale\n",
      "\n",
      "Antwort GPT: Carlo Natale leitet die Sektion Leistungen der EAK.\n",
      "\n",
      "--------------------------------------------------------------------------------\n",
      "Testfrage: Wer leitet die Familienausgleichskasse der EAK? \n",
      "Richtige Antwort:  Anick Herren\n",
      "\n",
      "Antwort GPT: Die Familienausgleichskasse der EAK wird von der Kassenleiterin Andrea Steiner geleitet.\n",
      "\n",
      "--------------------------------------------------------------------------------\n",
      "Testfrage: Wie heißt der Direktor der Zentralen Ausgleichsstelle ZAS? \n",
      "Richtige Antwort:  Adrien Dupraz\n",
      "\n",
      "Antwort GPT: Adrien Dupraz\n",
      "\n",
      "--------------------------------------------------------------------------------\n",
      "Testfrage: Wie viel ist das minimum dass ich kriege wenn ich bin pensioniert? \n",
      "Richtige Antwort:  Die minimale vollständige Altersrente der AHV beträgt 14'700 Franken pro Jahr.\n",
      "\n",
      "Antwort GPT: Die Minimalrenten betragen 50 % des durchschnittlichen Erwerbseinkommens.\n",
      "\n",
      "--------------------------------------------------------------------------------\n"
     ]
    }
   ],
   "source": [
    "for _, data in tests.iterrows():\n",
    "    print(f\"Testfrage: {data.question}\")\n",
    "    print(f\"Richtige Antwort: {data.answer}\")\n",
    "    print()\n",
    "    answer_oai, _ = answer_question(df, question=data.question, max_tokens=500)\n",
    "    print(f\"Antwort GPT: {answer_oai}\")\n",
    "    print()\n",
    "    print(\"-\"*80)"
   ]
  },
  {
   "cell_type": "code",
   "execution_count": null,
   "metadata": {},
   "outputs": [],
   "source": []
  }
 ],
 "metadata": {
  "kernelspec": {
   "display_name": "Python 3 (ipykernel)",
   "language": "python",
   "name": "python3"
  },
  "language_info": {
   "codemirror_mode": {
    "name": "ipython",
    "version": 3
   },
   "file_extension": ".py",
   "mimetype": "text/x-python",
   "name": "python",
   "nbconvert_exporter": "python",
   "pygments_lexer": "ipython3",
   "version": "3.8.15"
  },
  "vscode": {
   "interpreter": {
    "hash": "05f34a34d73b71652304030c1097be3a5720ea2447153dd6542d145a26b73181"
   }
  }
 },
 "nbformat": 4,
 "nbformat_minor": 4
}
